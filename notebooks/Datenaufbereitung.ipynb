{
 "cells": [
  {
   "cell_type": "code",
   "execution_count": 3,
   "id": "4bc4cae9-6627-41d5-97e1-795b95ec9ed1",
   "metadata": {},
   "outputs": [
    {
     "name": "stdout",
     "output_type": "stream",
     "text": [
      "   Unnamed: 0 fruit_type         color    size     weight\n",
      "0           0      grape        Yellow    Tiny   8.303385\n",
      "1           1      apple          Pink  Largee  80.976370\n",
      "2           2     banana   Pale Yellow   Large  74.615192\n",
      "3           3      grape           Red    Tiny   6.924070\n",
      "4           4     banana  Creamy White  Largee  82.002542\n",
      "<class 'pandas.core.frame.DataFrame'>\n",
      "RangeIndex: 200 entries, 0 to 199\n",
      "Data columns (total 5 columns):\n",
      " #   Column      Non-Null Count  Dtype  \n",
      "---  ------      --------------  -----  \n",
      " 0   Unnamed: 0  200 non-null    int64  \n",
      " 1   fruit_type  200 non-null    object \n",
      " 2   color       200 non-null    object \n",
      " 3   size        200 non-null    object \n",
      " 4   weight      200 non-null    float64\n",
      "dtypes: float64(1), int64(1), object(3)\n",
      "memory usage: 7.9+ KB\n",
      "None\n"
     ]
    }
   ],
   "source": [
    "import pandas as pd\n",
    "\n",
    "# Datei laden\n",
    "file_path = \"../data/fruit_data.xlsx\"  # Ersetze mit dem tatsächlichen Pfad zur Datei\n",
    "data = pd.read_excel(file_path)\n",
    "\n",
    "# Die ersten Zeilen des Datensatzes anzeigen\n",
    "print(data.head())\n",
    "\n",
    "# Informationen über die Daten anzeigen\n",
    "print(data.info())"
   ]
  },
  {
   "cell_type": "code",
   "execution_count": null,
   "id": "da5129ab-6a38-4a60-b565-7949b2ac6918",
   "metadata": {},
   "outputs": [],
   "source": []
  }
 ],
 "metadata": {
  "kernelspec": {
   "display_name": "Python 3 (ipykernel)",
   "language": "python",
   "name": "python3"
  },
  "language_info": {
   "codemirror_mode": {
    "name": "ipython",
    "version": 3
   },
   "file_extension": ".py",
   "mimetype": "text/x-python",
   "name": "python",
   "nbconvert_exporter": "python",
   "pygments_lexer": "ipython3",
   "version": "3.9.18"
  }
 },
 "nbformat": 4,
 "nbformat_minor": 5
}
